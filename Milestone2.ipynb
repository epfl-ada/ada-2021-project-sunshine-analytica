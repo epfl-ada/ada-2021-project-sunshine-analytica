{
 "cells": [
  {
   "cell_type": "markdown",
   "metadata": {},
   "source": [
    "# Milestone 2"
   ]
  },
  {
   "cell_type": "code",
   "execution_count": 1,
   "metadata": {
    "id": "DQM7B_AaBhix"
   },
   "outputs": [],
   "source": [
    "import numpy as np\n",
    "import pandas as pd\n",
    "import matplotlib.pyplot as plt\n",
    "from datetime import datetime, date, time\n",
    "from dateutil.relativedelta import relativedelta\n",
    "from sklearn.feature_extraction.text import TfidfVectorizer\n",
    "from sklearn.metrics.pairwise import cosine_similarity"
   ]
  },
  {
   "cell_type": "markdown",
   "metadata": {},
   "source": [
    "##### Extracting quotes from politicians"
   ]
  },
  {
   "cell_type": "code",
   "execution_count": null,
   "metadata": {},
   "outputs": [],
   "source": [
    "df_reader = pd.read_json('quotes-2020-domains.json.bz2', lines=True, compression='bz2', chunksize=10000)\n",
    "\n",
    "df_meta = pd.read_parquet('speaker_attributes.parquet')\n",
    "df_meta = df_meta[df_meta['occupation'].notna()]\n",
    "politicians = df_meta[df_meta.occupation.apply(lambda x: 'Q82955' in x)]\n",
    "politicians = politicians[politicians['aliases'].notna()]\n",
    "politicians = politicians[politicians['label'].notna()]\n",
    "list_of_politicians = list(politicians.aliases.explode())\n",
    "list_of_politicians += list(politicians.label)\n",
    "\n",
    "df_politicians = pd.concat([\n",
    "    chunk[chunk['speaker'].isin(list_of_politicians)]\n",
    "    for chunk in df_reader])"
   ]
  },
  {
   "cell_type": "markdown",
   "metadata": {},
   "source": [
    "##### Save to disk"
   ]
  },
  {
   "cell_type": "code",
   "execution_count": null,
   "metadata": {},
   "outputs": [],
   "source": [
    "compression_opts = dict(method='zip',archive_name='politicians.csv')  \n",
    "df_politicians.to_csv('politicians.zip', index=False, compression=compression_opts)\n",
    "df_meta.to_csv('meta.zip', index=False, compression=compression_opts)"
   ]
  },
  {
   "cell_type": "markdown",
   "metadata": {},
   "source": [
    "##### Read from disk"
   ]
  },
  {
   "cell_type": "code",
   "execution_count": 3,
   "metadata": {},
   "outputs": [
    {
     "name": "stderr",
     "output_type": "stream",
     "text": [
      "C:\\ProgramData\\Anaconda3\\lib\\site-packages\\IPython\\core\\interactiveshell.py:3165: DtypeWarning: Columns (6) have mixed types.Specify dtype option on import or set low_memory=False.\n",
      "  has_raised = await self.run_ast_nodes(code_ast.body, cell_name,\n"
     ]
    }
   ],
   "source": [
    "df_politicians = pd.read_csv(\"politicians.csv\")\n",
    "df_meta = pd.read_csv(\"meta.csv\")"
   ]
  },
  {
   "cell_type": "markdown",
   "metadata": {},
   "source": [
    "# Quote time correlation\n",
    "# TODO\n",
    "##### Using quotes as signal\n",
    "##### TODO  We retrieve all of Joe Biden's and Donald Trump's quotes for the year 2020 and the associated dates. We create a signal for each politician corresponding to the number of speeches recorded each week of the year. And finally we can visualise the correlation of the two signals but also the time lag between the two signals"
   ]
  },
  {
   "cell_type": "code",
   "execution_count": 4,
   "metadata": {},
   "outputs": [],
   "source": [
    "df_politicians.date = pd.to_datetime(df_politicians.date)"
   ]
  },
  {
   "cell_type": "code",
   "execution_count": 18,
   "metadata": {},
   "outputs": [],
   "source": [
    "signal_Joe_Biden = np.zeros([53,]) # 53 weeks in 2020 because of leap year\n",
    "signal_Donald_Trump = np.zeros([53,]) # 53 weeks in 2020 because of leap year\n",
    "signal_macron = np.zeros([53,]) # 53 weeks in 2020 because of leap year\n",
    "\n",
    "\n",
    "biden_aliases = list(df_meta[df_meta['label'] == 'Joe Biden']['aliases'].values[0]) # We extract different ways to call him in the df\n",
    "\n",
    "chunk_Joe_Biden = df_politicians[(df_politicians.speaker == \"Joe Biden\") | (df_politicians.speaker.isin(biden_aliases))] # We extract all his quotes\n",
    "weeks_Joe_Biden = chunk_Joe_Biden.date.apply(lambda x: x.week).values # We ectract all the weeks of eachs quotes\n",
    "signal_Joe_Biden, _ = np.histogram(weeks_Joe_Biden, range(1, signal_Joe_Biden.shape[0]+2)) # We create an histogram of number of quotes per weeks\n",
    "\n",
    "# Same for Trump\n",
    "trump_aliases = list(df_meta[df_meta['label'] == 'Donald Trump']['aliases'].values[0])\n",
    "\n",
    "chunk_Donald_Trump = df_politicians[(df_politicians.speaker == \"Donald Trump\") | (df_politicians.speaker.isin(trump_aliases))] \n",
    "weeks_Donald_Trump = chunk_Donald_Trump.date.apply(lambda x: x.week).values\n",
    "signal_Donald_Trump, _ = np.histogram(weeks_Donald_Trump, range(1, signal_Donald_Trump.shape[0]+2))\n",
    "\n",
    "# Same for another politician\n",
    "macron_aliases = list(df_meta[df_meta['label'] == 'Emmanuel Macron']['aliases'].values[0])\n",
    "\n",
    "chunk_macron = df_politicians[(df_politicians.speaker == \"Emmanuel Macron\") | (df_politicians.speaker.isin(macron_aliases))] \n",
    "weeks_macron = chunk_macron.date.apply(lambda x: x.week).values\n",
    "signal_macron, _ = np.histogram(weeks_macron, range(1, signal_macron.shape[0]+2))"
   ]
  },
  {
   "cell_type": "markdown",
   "metadata": {},
   "source": [
    "##### Plot the results"
   ]
  },
  {
   "cell_type": "code",
   "execution_count": 19,
   "metadata": {
    "colab": {
     "base_uri": "https://localhost:8080/",
     "height": 310
    },
    "id": "U9CZeMMtgalk",
    "outputId": "93bb158b-94f9-4f4b-fd27-79331ddf2e60"
   },
   "outputs": [
    {
     "data": {
      "image/png": "[encoded data removed]",
      "text/plain": [
       "<Figure size 432x288 with 1 Axes>"
      ]
     },
     "metadata": {
      "needs_background": "light"
     },
     "output_type": "display_data"
    }
   ],
   "source": [
    "plt.plot(signal_Joe_Biden, label=\"Joe Biden\")\n",
    "plt.plot(signal_Donald_Trump, label=\"Donald Trump\")\n",
    "plt.plot(signal_macron, label=\"Emmanuel Macron\")\n",
    "plt.xlim(1,signal_Donald_Trump.shape[0])\n",
    "plt.xlabel(\"Weeks of 2020\")\n",
    "plt.ylabel(\"Number of speeches per week\")\n",
    "plt.title(\"Comparison of the number of speeches per week\\nof Donald Trump and Joe Biden\")\n",
    "plt.legend();"
   ]
  },
  {
   "cell_type": "code",
   "execution_count": 26,
   "metadata": {
    "colab": {
     "base_uri": "https://localhost:8080/",
     "height": 265
    },
    "id": "Qh01CXqpWKxU",
    "outputId": "74c89b7c-3aac-4942-8c6d-bcfd76bed1ae"
   },
   "outputs": [
    {
     "data": {
      "text/plain": [
       "0.06468273151438089"
      ]
     },
     "execution_count": 26,
     "metadata": {},
     "output_type": "execute_result"
    }
   ],
   "source": [
    "np.correlate(signal_Donald_Trump/signal_Donald_Trump.sum(), signal_Joe_Biden/signal_Joe_Biden.sum())[0] # We anaylse the correlation between signals, normalized"
   ]
  },
  {
   "cell_type": "code",
   "execution_count": 27,
   "metadata": {},
   "outputs": [
    {
     "data": {
      "text/plain": [
       "0.06119310265038908"
      ]
     },
     "execution_count": 27,
     "metadata": {},
     "output_type": "execute_result"
    }
   ],
   "source": [
    "np.correlate(signal_Donald_Trump/signal_Donald_Trump.sum(), signal_macron/signal_macron.sum())[0]"
   ]
  },
  {
   "cell_type": "markdown",
   "metadata": {},
   "source": [
    "# Quote similarity\n",
    "### In this section we will demonstrate how we can compute quote similarity using Tfidf. This will be demonstrated using quotes from Donald Trump and Joe Biden."
   ]
  },
  {
   "cell_type": "markdown",
   "metadata": {},
   "source": [
    "##### Extract and save Trump and Biden quote "
   ]
  },
  {
   "cell_type": "code",
   "execution_count": 8,
   "metadata": {},
   "outputs": [],
   "source": [
    "chunk_Donald_Trump.to_csv(\"Trump_2020_v2\")\n",
    "chunk_Joe_Biden.to_csv(\"Biden_2020_v2\")"
   ]
  },
  {
   "cell_type": "markdown",
   "metadata": {},
   "source": [
    "##### Read the csv saved of Trump and Biden"
   ]
  },
  {
   "cell_type": "code",
   "execution_count": 9,
   "metadata": {},
   "outputs": [],
   "source": [
    "Trump = pd.read_csv(\"Trump_2020_v2\")\n",
    "Biden = pd.read_csv(\"Biden_2020_v2\")"
   ]
  },
  {
   "cell_type": "markdown",
   "metadata": {},
   "source": [
    "##### Learn the vocabulary from the quotes of all politcians in the data set "
   ]
  },
  {
   "cell_type": "code",
   "execution_count": 10,
   "metadata": {},
   "outputs": [],
   "source": [
    "corpus = df_politicians['quotation'].to_list()\n",
    "vectorizer = TfidfVectorizer(ngram_range=(1,1), stop_words=['english'])\n",
    "vectorizer = vectorizer.fit(corpus)"
   ]
  },
  {
   "cell_type": "markdown",
   "metadata": {},
   "source": [
    "###### Pick a random quote from Donald Trump"
   ]
  },
  {
   "cell_type": "code",
   "execution_count": 11,
   "metadata": {},
   "outputs": [],
   "source": [
    "random = 25"
   ]
  },
  {
   "cell_type": "code",
   "execution_count": 12,
   "metadata": {},
   "outputs": [],
   "source": [
    "ref_Trump = Trump.loc[random]\n",
    "trump_quotes = [ref_Trump.quotation]"
   ]
  },
  {
   "cell_type": "markdown",
   "metadata": {},
   "source": [
    "###### Extract quotes of Joe Biden within the following month after the quote by Donald Trump"
   ]
  },
  {
   "cell_type": "code",
   "execution_count": 13,
   "metadata": {},
   "outputs": [],
   "source": [
    "Biden.date = pd.to_datetime(Biden.date)\n",
    "Trump.date = pd.to_datetime(Trump.date)"
   ]
  },
  {
   "cell_type": "code",
   "execution_count": 14,
   "metadata": {},
   "outputs": [],
   "source": [
    "ref_date = datetime.strptime(ref_Trump.date, '%Y-%m-%d %H:%M:%S')\n",
    "end_date = ref_date + relativedelta(months=1)\n",
    "Biden_target = Biden[Biden.date>ref_date]\n",
    "Biden_target = Biden_target[Biden_target.date<end_date]\n",
    "Biden_target = Biden_target[[\"date\", \"quotation\"]].sort_values(ascending=True, by=\"date\")"
   ]
  },
  {
   "cell_type": "markdown",
   "metadata": {},
   "source": [
    "##### Vectorize the quotes using Tfidf"
   ]
  },
  {
   "cell_type": "code",
   "execution_count": 15,
   "metadata": {},
   "outputs": [],
   "source": [
    "biden_quotes = Biden_target.quotation.to_list()\n",
    "\n",
    "trump_vec = vectorizer.transform(trump_quotes)\n",
    "biden_vec = vectorizer.transform(biden_quotes)"
   ]
  },
  {
   "cell_type": "markdown",
   "metadata": {},
   "source": [
    "##### Rank the quotes of Joe Biden according to the cosine similarity to the quote by Donald Trump and select the most similar"
   ]
  },
  {
   "cell_type": "code",
   "execution_count": 16,
   "metadata": {},
   "outputs": [
    {
     "name": "stdout",
     "output_type": "stream",
     "text": [
      "[[0.19533477]]\n",
      "[\"In our discussions, Prime Minister Modi and I affirmed our two countries' commitment to protecting our citizens from radical Islamic terrorism. In this effort, the United States is also working productively with Pakistan to confront terrorists who operate on its soil.\"]\n",
      "-------\n",
      "It is important to get through this crisis, protecting our public health and our democracy,\n"
     ]
    }
   ],
   "source": [
    "similar_index = np.argmax(cosine_similarity(trump_vec, biden_vec))\n",
    "print(cosine_similarity(trump_vec, biden_vec[similar_index]))\n",
    "similar_quote = biden_quotes[similar_index]\n",
    "print(trump_quotes)\n",
    "print(\"-------\")\n",
    "print(biden_quotes[similar_index])"
   ]
  }
 ],
 "metadata": {
  "colab": {
   "collapsed_sections": [],
   "name": "HW2ADA.ipynb",
   "provenance": []
  },
  "interpreter": {
   "hash": "b3ba2566441a7c06988d0923437866b63cedc61552a5af99d1f4fb67d367b25f"
  },
  "kernelspec": {
   "display_name": "Python 3.8.8 64-bit ('base': conda)",
   "name": "python3"
  },
  "language_info": {
   "codemirror_mode": {
    "name": "ipython",
    "version": 3
   },
   "file_extension": ".py",
   "mimetype": "text/x-python",
   "name": "python",
   "nbconvert_exporter": "python",
   "pygments_lexer": "ipython3",
   "version": "3.8.8"
  }
 },
 "nbformat": 4,
 "nbformat_minor": 1
}
