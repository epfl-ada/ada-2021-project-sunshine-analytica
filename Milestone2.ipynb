{
 "cells": [
  {
   "cell_type": "markdown",
   "metadata": {},
   "source": [
    "# Milestone 2"
   ]
  },
  {
   "cell_type": "code",
   "execution_count": 1,
   "metadata": {
    "id": "DQM7B_AaBhix"
   },
   "outputs": [],
   "source": [
    "import numpy as np\n",
    "import pandas as pd\n",
    "import random\n",
    "import matplotlib.pyplot as plt\n",
    "from datetime import datetime, date, time\n",
    "from dateutil.relativedelta import relativedelta\n",
    "from sklearn.feature_extraction.text import TfidfVectorizer\n",
    "from sklearn.metrics.pairwise import cosine_similarity\n",
    "from sklearn.decomposition import NMF\n",
    "from sklearn.metrics import pairwise_distances\n",
    "from sklearn.cluster import DBSCAN"
   ]
  },
  {
   "cell_type": "markdown",
   "metadata": {},
   "source": [
    "##### Extracting quotes from politicians\n",
    "In the following cell we load the provided metadata file, available [here](https://drive.google.com/drive/folders/1VAFHacZFh0oxSxilgNByb1nlNsqznUf0). This is used for obtaining a list of names of politicians, which we later use for filtering the QuoteBank dataset"
   ]
  },
  {
   "cell_type": "code",
   "execution_count": null,
   "metadata": {},
   "outputs": [],
   "source": [
    "df_meta = pd.read_parquet('speaker_attributes.parquet')\n",
    "df_meta = df_meta[df_meta['occupation'].notna()]\n",
    "\n",
    "# The identifier for the occupation politician in Wikidata is Q82955\n",
    "politicians = df_meta[df_meta.occupation.apply(lambda x: 'Q82955' in x)]\n",
    "politicians = politicians[politicians['aliases'].notna()]\n",
    "politicians = politicians[politicians['label'].notna()]\n",
    "\n",
    "# Only consider US politicians\n",
    "politicians = politicians[politicians['nationality'].notna()]\n",
    "politicians = politicians[politicians.nationality.apply(lambda x: 'Q30' in x)]\n",
    "\n",
    "# Make a combined list that contains both the aliases and the label names for the politicians\n",
    "list_of_politicians = list(politicians.aliases.explode())\n",
    "list_of_politicians += list(politicians.label)"
   ]
  },
  {
   "cell_type": "markdown",
   "metadata": {},
   "source": [
    "We use the provided [Colab notebook](https://colab.research.google.com/drive/1NqLFrAWAzKxr2dAWHI7m6Ml3gWGF72cA?usp=sharing) for loading the QuoteBank dataset. This script creates a compressed file that is opened in the following cell"
   ]
  },
  {
   "cell_type": "code",
   "execution_count": null,
   "metadata": {},
   "outputs": [],
   "source": [
    "df_reader = pd.read_json('quotes-2020-domains.json.bz2', lines=True, compression='bz2', chunksize=10000)\n",
    "\n",
    "df_politicians = pd.concat([\n",
    "    chunk[chunk['speaker'].isin(list_of_politicians)]\n",
    "    for chunk in df_reader])\n"
   ]
  },
  {
   "cell_type": "markdown",
   "metadata": {},
   "source": [
    "##### Save to disk\n",
    "Since it takes quite some time to load and filter the data, let's save it to a compressed .csv file that we can se."
   ]
  },
  {
   "cell_type": "code",
   "execution_count": null,
   "metadata": {},
   "outputs": [],
   "source": [
    "compression_opts = dict(method='zip',archive_name='politicians.csv')  \n",
    "df_politicians.to_csv('politicians.zip', index=False, compression=compression_opts)\n",
    "compression_opts = dict(method='zip',archive_name='meta.csv')  \n",
    "df_meta.to_csv('meta.zip', index=False, compression=compression_opts)"
   ]
  },
  {
   "cell_type": "markdown",
   "metadata": {},
   "source": [
    "##### Read from disk"
   ]
  },
  {
   "cell_type": "code",
   "execution_count": 2,
   "metadata": {},
   "outputs": [
    {
     "name": "stderr",
     "output_type": "stream",
     "text": [
      "/Users/kalle/opt/anaconda3/envs/ada/lib/python3.8/site-packages/IPython/core/interactiveshell.py:3441: DtypeWarning: Columns (6) have mixed types.Specify dtype option on import or set low_memory=False.\n",
      "  exec(code_obj, self.user_global_ns, self.user_ns)\n"
     ]
    }
   ],
   "source": [
    "df_politicians = pd.read_csv(\"politicians.csv\")\n",
    "df_meta = pd.read_csv(\"meta.csv\")"
   ]
  },
  {
   "cell_type": "code",
   "execution_count": 3,
   "metadata": {},
   "outputs": [
    {
     "name": "stdout",
     "output_type": "stream",
     "text": [
      "There are 392551 quotes made by US politicians\n",
      "There are 3687 speakers in the subset\n"
     ]
    }
   ],
   "source": [
    "nr_quotes = len(df_politicians)\n",
    "print('There are {} quotes made by US politicians'.format(nr_quotes))\n",
    "nr_speakers = len(df_politicians.speaker.unique())\n",
    "print('There are {} speakers in the subset'.format(nr_speakers))"
   ]
  },
  {
   "cell_type": "markdown",
   "metadata": {},
   "source": [
    "# Quote time correlation\n",
    "##### Using quotes as signal\n",
    "We retrieve all of Joe Biden's and Donald Trump's quotes for the year 2020 and the associated dates. We create a signal for each politician corresponding to the number of speeches recorded each week of the year. And finally we can visualise the correlation of the two signals but also the time lag between the two signals"
   ]
  },
  {
   "cell_type": "code",
   "execution_count": 3,
   "metadata": {},
   "outputs": [],
   "source": [
    "df_politicians.date = pd.to_datetime(df_politicians.date)"
   ]
  },
  {
   "cell_type": "code",
   "execution_count": 4,
   "metadata": {},
   "outputs": [],
   "source": [
    "def create_signal(name):\n",
    "    \"\"\"\n",
    "    Create a signal of the number of quotes per week, made by a politician.\n",
    "    Arguments:\n",
    "        name: name of the politician\n",
    "    \"\"\"\n",
    "    signal = np.zeros([53,])\n",
    "    # We extract different ways to call him in the df\n",
    "    aliases = list(df_meta[df_meta['label'] == name]['aliases'].values[0])\n",
    "    # We extract all his quotes\n",
    "    chunk = df_politicians[(df_politicians.speaker == name) | (df_politicians.speaker.isin(aliases))]\n",
    "    # We ectract all the weeks of eachs quotes\n",
    "    weeks = chunk.date.apply(lambda x: x.week).values\n",
    "    # We create an histogram of number of quotes per weeks\n",
    "    signal, _ = np.histogram(weeks, range(1, signal.shape[0]+2))\n",
    "    return signal\n",
    "signal_Donald_Trump = create_signal(\"Donald Trump\")\n",
    "signal_Joe_Biden = create_signal(\"Joe Biden\")\n",
    "signal_macron = create_signal(\"Emmanuel Macron\")"
   ]
  },
  {
   "cell_type": "markdown",
   "metadata": {},
   "source": [
    "##### Plot the results\n",
    "Note that the reason for the signal becoming zero between week 10 and 20 is that the QuoteBank dataset was collected up until April 2020."
   ]
  },
  {
   "cell_type": "code",
   "execution_count": 5,
   "metadata": {
    "colab": {
     "base_uri": "https://localhost:8080/",
     "height": 310
    },
    "id": "U9CZeMMtgalk",
    "outputId": "93bb158b-94f9-4f4b-fd27-79331ddf2e60"
   },
   "outputs": [
    {
     "data": {
      "image/png": "[encoded data removed]",
      "text/plain": [
       "<Figure size 432x288 with 1 Axes>"
      ]
     },
     "metadata": {
      "needs_background": "light"
     },
     "output_type": "display_data"
    }
   ],
   "source": [
    "plt.plot(signal_Joe_Biden, label=\"Joe Biden\")\n",
    "plt.plot(signal_Donald_Trump, label=\"Donald Trump\")\n",
    "plt.plot(signal_macron, label=\"Emmanuel Macron\")\n",
    "plt.xlim(1,signal_Donald_Trump.shape[0])\n",
    "plt.xlabel(\"Weeks of 2020\")\n",
    "plt.ylabel(\"Number of speeches per week\")\n",
    "plt.title(\"Comparison of the number of speeches per week\\nof Donald Trump and Joe Biden\")\n",
    "plt.legend();"
   ]
  },
  {
   "cell_type": "code",
   "execution_count": 6,
   "metadata": {
    "colab": {
     "base_uri": "https://localhost:8080/",
     "height": 265
    },
    "id": "Qh01CXqpWKxU",
    "outputId": "74c89b7c-3aac-4942-8c6d-bcfd76bed1ae"
   },
   "outputs": [
    {
     "name": "stdout",
     "output_type": "stream",
     "text": [
      "Correlation between Trump and Biden: 0.0647\n",
      "Correlation between Trump and Macron: nan\n",
      "Correlation between Biden and Macron: nan\n"
     ]
    },
    {
     "name": "stderr",
     "output_type": "stream",
     "text": [
      "/Users/clementnicolle/anaconda3/lib/python3.7/site-packages/ipykernel_launcher.py:2: RuntimeWarning: invalid value encountered in true_divide\n",
      "  \n",
      "/Users/clementnicolle/anaconda3/lib/python3.7/site-packages/ipykernel_launcher.py:3: RuntimeWarning: invalid value encountered in true_divide\n",
      "  This is separate from the ipykernel package so we can avoid doing imports until\n"
     ]
    }
   ],
   "source": [
    "trump_biden_corr = np.correlate(signal_Donald_Trump/signal_Donald_Trump.sum(), signal_Joe_Biden/signal_Joe_Biden.sum())[0] # We anaylse the correlation between signals, normalized\n",
    "trump_macron_corr = np.correlate(signal_Donald_Trump/signal_Donald_Trump.sum(), signal_macron/signal_macron.sum())[0]\n",
    "biden_macron_corr = np.correlate(signal_Joe_Biden/signal_Joe_Biden.sum(), signal_macron/signal_macron.sum())[0]\n",
    "\n",
    "print('Correlation between Trump and Biden: %.4f' % trump_biden_corr)\n",
    "print('Correlation between Trump and Macron: %.4f' % trump_macron_corr)\n",
    "print('Correlation between Biden and Macron: %.4f' % biden_macron_corr)"
   ]
  },
  {
   "cell_type": "markdown",
   "metadata": {},
   "source": [
    "We see that the correlation numbers are quite similar, escpecially for the ones including Joe Biden. In future work, we will have to come up with a test to see if the difference are statistically significant."
   ]
  },
  {
   "cell_type": "markdown",
   "metadata": {},
   "source": [
    "# Quote similarity\n",
    "In this section we will demonstrate how we can compute quote similarity using Tfidf. This will be demonstrated using quotes from Donald Trump and Joe Biden."
   ]
  },
  {
   "cell_type": "markdown",
   "metadata": {},
   "source": [
    "##### Extract and save Trump and Biden quote "
   ]
  },
  {
   "cell_type": "code",
   "execution_count": 32,
   "metadata": {},
   "outputs": [],
   "source": [
    "chunk_Donald_Trump.to_csv(\"Trump_2020_v2.csv\")\n",
    "chunk_Joe_Biden.to_csv(\"Biden_2020_v2.csv\")"
   ]
  },
  {
   "cell_type": "markdown",
   "metadata": {},
   "source": [
    "##### Read the csv saved of Trump and Biden"
   ]
  },
  {
   "cell_type": "code",
   "execution_count": 33,
   "metadata": {},
   "outputs": [],
   "source": [
    "Trump = pd.read_csv(\"Trump_2020_v2.csv\")\n",
    "Biden = pd.read_csv(\"Biden_2020_v2.csv\")"
   ]
  },
  {
   "cell_type": "markdown",
   "metadata": {},
   "source": [
    "##### Learn the vocabulary from the quotes of all politcians in the data set "
   ]
  },
  {
   "cell_type": "code",
   "execution_count": 34,
   "metadata": {},
   "outputs": [],
   "source": [
    "corpus = df_politicians['quotation'].to_list()\n",
    "vectorizer = TfidfVectorizer(ngram_range=(1,1), stop_words=['english'])\n",
    "vectorizer = vectorizer.fit(corpus)"
   ]
  },
  {
   "cell_type": "markdown",
   "metadata": {},
   "source": [
    "###### Pick a random quote from Donald Trump"
   ]
  },
  {
   "cell_type": "code",
   "execution_count": 35,
   "metadata": {},
   "outputs": [],
   "source": [
    "random = 25\n",
    "ref_Trump = Trump.loc[random]\n",
    "trump_quote = [ref_Trump.quotation]"
   ]
  },
  {
   "cell_type": "markdown",
   "metadata": {},
   "source": [
    "###### Extract quotes of Joe Biden within the following month after the quote by Donald Trump"
   ]
  },
  {
   "cell_type": "code",
   "execution_count": 36,
   "metadata": {},
   "outputs": [],
   "source": [
    "ref_date = datetime.strptime(ref_Trump.date, '%Y-%m-%d %H:%M:%S')\n",
    "end_date = ref_date + relativedelta(months=1)\n",
    "Biden.date = Biden.date.apply(lambda d: datetime.strptime(d, '%Y-%m-%d %H:%M:%S'))\n",
    "Biden_target = Biden[Biden.date>ref_date]\n",
    "Biden_target = Biden_target[Biden_target.date<end_date]\n",
    "Biden_target = Biden_target[[\"date\", \"quotation\"]].sort_values(ascending=True, by=\"date\")"
   ]
  },
  {
   "cell_type": "markdown",
   "metadata": {},
   "source": [
    "##### Vectorize the quotes using Tfidf"
   ]
  },
  {
   "cell_type": "code",
   "execution_count": 37,
   "metadata": {},
   "outputs": [],
   "source": [
    "biden_quotes = Biden_target.quotation.to_list()\n",
    "\n",
    "trump_vec = vectorizer.transform(trump_quote)\n",
    "biden_vec = vectorizer.transform(biden_quotes)"
   ]
  },
  {
   "cell_type": "markdown",
   "metadata": {},
   "source": [
    "##### Rank the quotes of Joe Biden according to the cosine similarity to the quote by Donald Trump and select the most similar"
   ]
  },
  {
   "cell_type": "code",
   "execution_count": 38,
   "metadata": {},
   "outputs": [
    {
     "name": "stdout",
     "output_type": "stream",
     "text": [
      "Cosine similarity: 0.243\n",
      "-------\n",
      "Quote by Donald Trump:  He does good at rockets, too, by the way. I never saw where the engines come down with no wings, no anything, and they're landing.\n",
      "-------\n",
      "Quote by Joe Biden:  I was there a long time, Joe, and I never saw anything like that,\n"
     ]
    }
   ],
   "source": [
    "similar_index = np.argmax(cosine_similarity(trump_vec, biden_vec))\n",
    "print(\"Cosine similarity: %.3f\" % cosine_similarity(trump_vec, biden_vec[similar_index])[0][0])\n",
    "print(\"-------\")\n",
    "similar_quote = biden_quotes[similar_index]\n",
    "print(\"Quote by Donald Trump: \",trump_quote[0])\n",
    "print(\"-------\")\n",
    "print(\"Quote by Joe Biden: \",biden_quotes[similar_index])"
   ]
  },
  {
   "cell_type": "markdown",
   "metadata": {},
   "source": [
    "# Quote similarity v2"
   ]
  },
  {
   "cell_type": "code",
   "execution_count": 5,
   "metadata": {},
   "outputs": [],
   "source": [
    "quote = df_politicians[[\"speaker\",\"quotation\"]]"
   ]
  },
  {
   "cell_type": "code",
   "execution_count": 6,
   "metadata": {},
   "outputs": [
    {
     "data": {
      "text/html": [
       "<div>\n",
       "<style scoped>\n",
       "    .dataframe tbody tr th:only-of-type {\n",
       "        vertical-align: middle;\n",
       "    }\n",
       "\n",
       "    .dataframe tbody tr th {\n",
       "        vertical-align: top;\n",
       "    }\n",
       "\n",
       "    .dataframe thead th {\n",
       "        text-align: right;\n",
       "    }\n",
       "</style>\n",
       "<table border=\"1\" class=\"dataframe\">\n",
       "  <thead>\n",
       "    <tr style=\"text-align: right;\">\n",
       "      <th></th>\n",
       "      <th>speaker</th>\n",
       "      <th>quotation</th>\n",
       "    </tr>\n",
       "  </thead>\n",
       "  <tbody>\n",
       "    <tr>\n",
       "      <th>0</th>\n",
       "      <td>Ben Carson</td>\n",
       "      <td>[ These ] actions will allow households who ha...</td>\n",
       "    </tr>\n",
       "    <tr>\n",
       "      <th>1</th>\n",
       "      <td>Dave Loebsack</td>\n",
       "      <td>a few of the candidates who will do better in ...</td>\n",
       "    </tr>\n",
       "    <tr>\n",
       "      <th>2</th>\n",
       "      <td>Julián Castro</td>\n",
       "      <td>A lot of Americans [ were ] upset that this wa...</td>\n",
       "    </tr>\n",
       "    <tr>\n",
       "      <th>3</th>\n",
       "      <td>Gavin Newsom</td>\n",
       "      <td>a manufacturer here in the state of California.</td>\n",
       "    </tr>\n",
       "    <tr>\n",
       "      <th>4</th>\n",
       "      <td>John Burke</td>\n",
       "      <td>Although not a lubricant issue, tire wear is e...</td>\n",
       "    </tr>\n",
       "  </tbody>\n",
       "</table>\n",
       "</div>"
      ],
      "text/plain": [
       "         speaker                                          quotation\n",
       "0     Ben Carson  [ These ] actions will allow households who ha...\n",
       "1  Dave Loebsack  a few of the candidates who will do better in ...\n",
       "2  Julián Castro  A lot of Americans [ were ] upset that this wa...\n",
       "3   Gavin Newsom    a manufacturer here in the state of California.\n",
       "4     John Burke  Although not a lubricant issue, tire wear is e..."
      ]
     },
     "execution_count": 6,
     "metadata": {},
     "output_type": "execute_result"
    }
   ],
   "source": [
    "quote.head()"
   ]
  },
  {
   "cell_type": "code",
   "execution_count": 7,
   "metadata": {},
   "outputs": [],
   "source": [
    "corpus = quote['quotation'].to_list()\n",
    "vectorizer = TfidfVectorizer(ngram_range=(1,1), stop_words=['english'])\n",
    "vectorizer = vectorizer.fit(corpus)"
   ]
  },
  {
   "cell_type": "code",
   "execution_count": 16,
   "metadata": {},
   "outputs": [],
   "source": [
    "quote_vectorized = vectorizer.transform(quote.quotation)"
   ]
  },
  {
   "cell_type": "code",
   "execution_count": 27,
   "metadata": {},
   "outputs": [
    {
     "data": {
      "text/plain": [
       "<392551x59053 sparse matrix of type '<class 'numpy.float64'>'\n",
       "\twith 7396327 stored elements in Compressed Sparse Row format>"
      ]
     },
     "execution_count": 27,
     "metadata": {},
     "output_type": "execute_result"
    }
   ],
   "source": [
    "quote_vectorized"
   ]
  },
  {
   "cell_type": "code",
   "execution_count": 55,
   "metadata": {},
   "outputs": [],
   "source": [
    "def count_non_null(my_list):\n",
    "    my_list = my_list[0]\n",
    "    s = 0\n",
    "    for k in my_list :\n",
    "        if (k!=0):\n",
    "            s+=1\n",
    "    return s        "
   ]
  },
  {
   "cell_type": "markdown",
   "metadata": {},
   "source": [
    "##### Average number of non null component for each rows"
   ]
  },
  {
   "cell_type": "code",
   "execution_count": 81,
   "metadata": {},
   "outputs": [
    {
     "data": {
      "text/plain": [
       "18.8945"
      ]
     },
     "execution_count": 81,
     "metadata": {},
     "output_type": "execute_result"
    }
   ],
   "source": [
    "n=0\n",
    "L=np.arange(392551)\n",
    "np.random.shuffle(L)\n",
    "for k in range (10000):\n",
    "    n+=count_non_null(quote_vectorized[L[k],:].todense().tolist())\n",
    "n/10000"
   ]
  },
  {
   "cell_type": "code",
   "execution_count": 84,
   "metadata": {},
   "outputs": [],
   "source": [
    "nmf = NMF(2, random_state = 1).fit_transform(quote_vectorized)"
   ]
  },
  {
   "cell_type": "code",
   "execution_count": 96,
   "metadata": {},
   "outputs": [],
   "source": [
    "from sklearn.cluster import KMeans, DBSCAN\n",
    "kmeans = KMeans(n_clusters=8, random_state=0).fit_predict(nmf)"
   ]
  },
  {
   "cell_type": "code",
   "execution_count": 99,
   "metadata": {},
   "outputs": [
    {
     "data": {
      "text/plain": [
       "array([4, 3, 3, ..., 6, 7, 0], dtype=int32)"
      ]
     },
     "execution_count": 99,
     "metadata": {},
     "output_type": "execute_result"
    }
   ],
   "source": [
    "kmeans"
   ]
  },
  {
   "cell_type": "code",
   "execution_count": 100,
   "metadata": {},
   "outputs": [
    {
     "data": {
      "text/plain": [
       "array([6, 6, 6, ..., 4, 4, 7], dtype=int32)"
      ]
     },
     "execution_count": 100,
     "metadata": {},
     "output_type": "execute_result"
    }
   ],
   "source": [
    "nmf = NMF(18, random_state = 1).fit_transform(quote_vectorized)\n",
    "kmeans = KMeans(n_clusters=8, random_state=0).fit_predict(nmf)\n",
    "kmeans"
   ]
  },
  {
   "cell_type": "code",
   "execution_count": 110,
   "metadata": {},
   "outputs": [
    {
     "name": "stdout",
     "output_type": "stream",
     "text": [
      "2\n",
      "3\n",
      "4\n",
      "5\n",
      "6\n",
      "7\n",
      "8\n",
      "9\n",
      "10\n",
      "11\n",
      "12\n",
      "13\n",
      "14\n",
      "15\n",
      "16\n",
      "17\n",
      "18\n",
      "19\n",
      "20\n"
     ]
    },
    {
     "data": {
      "image/png": "[encoded data removed]",
      "text/plain": [
       "<Figure size 432x288 with 1 Axes>"
      ]
     },
     "metadata": {
      "needs_background": "light"
     },
     "output_type": "display_data"
    }
   ],
   "source": [
    "def plot_sse(features_X, start=2, end=21):\n",
    "    sse = []\n",
    "    for k in range(start, end):\n",
    "        # Assign the labels to the clusters\n",
    "        kmeans = KMeans(n_clusters=k, random_state=10).fit(features_X)\n",
    "        sse.append({\"k\": k, \"sse\": kmeans.inertia_})\n",
    "        print(k)\n",
    "    sse = pd.DataFrame(sse)\n",
    "    # Plot the data\n",
    "    plt.plot(sse.k, sse.sse)\n",
    "    plt.xlabel(\"K\")\n",
    "    plt.ylabel(\"Sum of Squared Errors\")\n",
    "    \n",
    "plot_sse(nmf)"
   ]
  },
  {
   "cell_type": "code",
   "execution_count": 113,
   "metadata": {},
   "outputs": [
    {
     "name": "stdout",
     "output_type": "stream",
     "text": [
      "2\n",
      "3\n",
      "4\n",
      "5\n",
      "6\n",
      "7\n",
      "8\n",
      "9\n",
      "10\n",
      "11\n",
      "12\n",
      "13\n",
      "14\n",
      "15\n"
     ]
    },
    {
     "data": {
      "image/png": "[encoded data removed]",
      "text/plain": [
       "<Figure size 432x288 with 1 Axes>"
      ]
     },
     "metadata": {
      "needs_background": "light"
     },
     "output_type": "display_data"
    }
   ],
   "source": [
    "nmf = NMF(5, random_state = 1).fit_transform(quote_vectorized)\n",
    "plot_sse(nmf, end=16)"
   ]
  },
  {
   "cell_type": "code",
   "execution_count": 117,
   "metadata": {},
   "outputs": [
    {
     "data": {
      "text/plain": [
       "array([1, 1, 1, ..., 5, 2, 0], dtype=int32)"
      ]
     },
     "execution_count": 117,
     "metadata": {},
     "output_type": "execute_result"
    }
   ],
   "source": [
    "kmeans = KMeans(n_clusters=6, random_state=0).fit_predict(nmf)\n",
    "kmeans"
   ]
  },
  {
   "cell_type": "code",
   "execution_count": 118,
   "metadata": {},
   "outputs": [
    {
     "name": "stderr",
     "output_type": "stream",
     "text": [
      "/Users/clementnicolle/anaconda3/lib/python3.7/site-packages/ipykernel_launcher.py:1: SettingWithCopyWarning: \n",
      "A value is trying to be set on a copy of a slice from a DataFrame.\n",
      "Try using .loc[row_indexer,col_indexer] = value instead\n",
      "\n",
      "See the caveats in the documentation: http://pandas.pydata.org/pandas-docs/stable/indexing.html#indexing-view-versus-copy\n",
      "  \"\"\"Entry point for launching an IPython kernel.\n"
     ]
    }
   ],
   "source": [
    "quote[\"cluster\"] = kmeans"
   ]
  },
  {
   "cell_type": "code",
   "execution_count": 119,
   "metadata": {},
   "outputs": [
    {
     "data": {
      "text/html": [
       "<div>\n",
       "<style scoped>\n",
       "    .dataframe tbody tr th:only-of-type {\n",
       "        vertical-align: middle;\n",
       "    }\n",
       "\n",
       "    .dataframe tbody tr th {\n",
       "        vertical-align: top;\n",
       "    }\n",
       "\n",
       "    .dataframe thead th {\n",
       "        text-align: right;\n",
       "    }\n",
       "</style>\n",
       "<table border=\"1\" class=\"dataframe\">\n",
       "  <thead>\n",
       "    <tr style=\"text-align: right;\">\n",
       "      <th></th>\n",
       "      <th>speaker</th>\n",
       "      <th>quotation</th>\n",
       "      <th>cluster</th>\n",
       "    </tr>\n",
       "  </thead>\n",
       "  <tbody>\n",
       "    <tr>\n",
       "      <th>0</th>\n",
       "      <td>Ben Carson</td>\n",
       "      <td>[ These ] actions will allow households who ha...</td>\n",
       "      <td>1</td>\n",
       "    </tr>\n",
       "    <tr>\n",
       "      <th>1</th>\n",
       "      <td>Dave Loebsack</td>\n",
       "      <td>a few of the candidates who will do better in ...</td>\n",
       "      <td>1</td>\n",
       "    </tr>\n",
       "    <tr>\n",
       "      <th>2</th>\n",
       "      <td>Julián Castro</td>\n",
       "      <td>A lot of Americans [ were ] upset that this wa...</td>\n",
       "      <td>1</td>\n",
       "    </tr>\n",
       "    <tr>\n",
       "      <th>3</th>\n",
       "      <td>Gavin Newsom</td>\n",
       "      <td>a manufacturer here in the state of California.</td>\n",
       "      <td>1</td>\n",
       "    </tr>\n",
       "    <tr>\n",
       "      <th>4</th>\n",
       "      <td>John Burke</td>\n",
       "      <td>Although not a lubricant issue, tire wear is e...</td>\n",
       "      <td>3</td>\n",
       "    </tr>\n",
       "  </tbody>\n",
       "</table>\n",
       "</div>"
      ],
      "text/plain": [
       "         speaker                                          quotation  cluster\n",
       "0     Ben Carson  [ These ] actions will allow households who ha...        1\n",
       "1  Dave Loebsack  a few of the candidates who will do better in ...        1\n",
       "2  Julián Castro  A lot of Americans [ were ] upset that this wa...        1\n",
       "3   Gavin Newsom    a manufacturer here in the state of California.        1\n",
       "4     John Burke  Although not a lubricant issue, tire wear is e...        3"
      ]
     },
     "execution_count": 119,
     "metadata": {},
     "output_type": "execute_result"
    }
   ],
   "source": [
    "quote.head()"
   ]
  },
  {
   "cell_type": "code",
   "execution_count": 127,
   "metadata": {},
   "outputs": [
    {
     "data": {
      "text/html": [
       "<div>\n",
       "<style scoped>\n",
       "    .dataframe tbody tr th:only-of-type {\n",
       "        vertical-align: middle;\n",
       "    }\n",
       "\n",
       "    .dataframe tbody tr th {\n",
       "        vertical-align: top;\n",
       "    }\n",
       "\n",
       "    .dataframe thead th {\n",
       "        text-align: right;\n",
       "    }\n",
       "</style>\n",
       "<table border=\"1\" class=\"dataframe\">\n",
       "  <thead>\n",
       "    <tr style=\"text-align: right;\">\n",
       "      <th></th>\n",
       "      <th>speaker</th>\n",
       "      <th>quotation</th>\n",
       "      <th>cluster</th>\n",
       "    </tr>\n",
       "  </thead>\n",
       "  <tbody>\n",
       "    <tr>\n",
       "      <th>5</th>\n",
       "      <td>John Moore</td>\n",
       "      <td>And his own drama is that he's stuck in this c...</td>\n",
       "      <td>4</td>\n",
       "    </tr>\n",
       "    <tr>\n",
       "      <th>17</th>\n",
       "      <td>President Donald Trump</td>\n",
       "      <td>But think of it: A man leaks classified inform...</td>\n",
       "      <td>4</td>\n",
       "    </tr>\n",
       "    <tr>\n",
       "      <th>33</th>\n",
       "      <td>Mike Kelly</td>\n",
       "      <td>He's 21 or 22 years old so I'm not too worried...</td>\n",
       "      <td>4</td>\n",
       "    </tr>\n",
       "    <tr>\n",
       "      <th>37</th>\n",
       "      <td>Megyn Kelly</td>\n",
       "      <td>I actually don't happen to be one of those peo...</td>\n",
       "      <td>4</td>\n",
       "    </tr>\n",
       "    <tr>\n",
       "      <th>44</th>\n",
       "      <td>Nancy Pelosi</td>\n",
       "      <td>I don't need any lesson from anybody, especial...</td>\n",
       "      <td>4</td>\n",
       "    </tr>\n",
       "    <tr>\n",
       "      <th>48</th>\n",
       "      <td>President Donald Trump</td>\n",
       "      <td>I hope it is not going to be a rigged deal bec...</td>\n",
       "      <td>4</td>\n",
       "    </tr>\n",
       "    <tr>\n",
       "      <th>49</th>\n",
       "      <td>President Donald Trump</td>\n",
       "      <td>I really believe it. And I'm going to work har...</td>\n",
       "      <td>4</td>\n",
       "    </tr>\n",
       "    <tr>\n",
       "      <th>50</th>\n",
       "      <td>Thomas Collins</td>\n",
       "      <td>I think we Catholics have taken the Mass for g...</td>\n",
       "      <td>4</td>\n",
       "    </tr>\n",
       "    <tr>\n",
       "      <th>63</th>\n",
       "      <td>Steve Bullock</td>\n",
       "      <td>I'm just basically looking at it like, when I ...</td>\n",
       "      <td>4</td>\n",
       "    </tr>\n",
       "    <tr>\n",
       "      <th>68</th>\n",
       "      <td>Amy Klobuchar</td>\n",
       "      <td>It is the first state but there's many to follow,</td>\n",
       "      <td>4</td>\n",
       "    </tr>\n",
       "    <tr>\n",
       "      <th>69</th>\n",
       "      <td>William Russell</td>\n",
       "      <td>It was a no-brainer for me to come forward and...</td>\n",
       "      <td>4</td>\n",
       "    </tr>\n",
       "    <tr>\n",
       "      <th>70</th>\n",
       "      <td>Mike Rounds</td>\n",
       "      <td>It's critical to have diverse perspectives,</td>\n",
       "      <td>4</td>\n",
       "    </tr>\n",
       "    <tr>\n",
       "      <th>72</th>\n",
       "      <td>Joe Biden</td>\n",
       "      <td>It's just a lot of baggage that @JoeBiden take...</td>\n",
       "      <td>4</td>\n",
       "    </tr>\n",
       "    <tr>\n",
       "      <th>73</th>\n",
       "      <td>David Scott</td>\n",
       "      <td>It's not like buying or selling a house,</td>\n",
       "      <td>4</td>\n",
       "    </tr>\n",
       "    <tr>\n",
       "      <th>74</th>\n",
       "      <td>Peter Gray</td>\n",
       "      <td>It's not only humane but it makes good economi...</td>\n",
       "      <td>4</td>\n",
       "    </tr>\n",
       "    <tr>\n",
       "      <th>77</th>\n",
       "      <td>Mike Pompeo</td>\n",
       "      <td>I've said that consistently.... I've watched m...</td>\n",
       "      <td>4</td>\n",
       "    </tr>\n",
       "    <tr>\n",
       "      <th>101</th>\n",
       "      <td>John Clarke</td>\n",
       "      <td>That is all I think I can do today.</td>\n",
       "      <td>4</td>\n",
       "    </tr>\n",
       "    <tr>\n",
       "      <th>102</th>\n",
       "      <td>Rep. Ilhan Omar</td>\n",
       "      <td>That withdrawal from the [ Iran ] nuclear deal...</td>\n",
       "      <td>4</td>\n",
       "    </tr>\n",
       "    <tr>\n",
       "      <th>114</th>\n",
       "      <td>Mike Johnson</td>\n",
       "      <td>The only thing that has been proven beyond a r...</td>\n",
       "      <td>4</td>\n",
       "    </tr>\n",
       "    <tr>\n",
       "      <th>121</th>\n",
       "      <td>Mark Meadows</td>\n",
       "      <td>There may not be anything wrong here,</td>\n",
       "      <td>4</td>\n",
       "    </tr>\n",
       "    <tr>\n",
       "      <th>126</th>\n",
       "      <td>Andy Beshear</td>\n",
       "      <td>They don't realize it happens in every neighbo...</td>\n",
       "      <td>4</td>\n",
       "    </tr>\n",
       "    <tr>\n",
       "      <th>127</th>\n",
       "      <td>Ron DeSantis</td>\n",
       "      <td>They were badgering about it and he was saying...</td>\n",
       "      <td>4</td>\n",
       "    </tr>\n",
       "    <tr>\n",
       "      <th>135</th>\n",
       "      <td>Pete Buttigieg</td>\n",
       "      <td>This virus does not care what country it's in,...</td>\n",
       "      <td>4</td>\n",
       "    </tr>\n",
       "    <tr>\n",
       "      <th>141</th>\n",
       "      <td>Bernie Sanders</td>\n",
       "      <td>Tuesday is a very, very important day,</td>\n",
       "      <td>4</td>\n",
       "    </tr>\n",
       "    <tr>\n",
       "      <th>165</th>\n",
       "      <td>Bernie Sanders</td>\n",
       "      <td>What happened and existed in the Soviet Union ...</td>\n",
       "      <td>4</td>\n",
       "    </tr>\n",
       "    <tr>\n",
       "      <th>179</th>\n",
       "      <td>Patrick Leahy</td>\n",
       "      <td>and doesn't want to do anything that [ Preside...</td>\n",
       "      <td>4</td>\n",
       "    </tr>\n",
       "    <tr>\n",
       "      <th>180</th>\n",
       "      <td>Hillary Clinton</td>\n",
       "      <td>And I know that from my own races -- they don'...</td>\n",
       "      <td>4</td>\n",
       "    </tr>\n",
       "    <tr>\n",
       "      <th>191</th>\n",
       "      <td>President Donald Trump</td>\n",
       "      <td>But it looks like, more and more, we're going ...</td>\n",
       "      <td>4</td>\n",
       "    </tr>\n",
       "    <tr>\n",
       "      <th>193</th>\n",
       "      <td>Ron DeSantis</td>\n",
       "      <td>But what's happened is -- and it's a problem f...</td>\n",
       "      <td>4</td>\n",
       "    </tr>\n",
       "    <tr>\n",
       "      <th>211</th>\n",
       "      <td>Mitt Romney</td>\n",
       "      <td>he voted his conscience. It's probably for him...</td>\n",
       "      <td>4</td>\n",
       "    </tr>\n",
       "    <tr>\n",
       "      <th>...</th>\n",
       "      <td>...</td>\n",
       "      <td>...</td>\n",
       "      <td>...</td>\n",
       "    </tr>\n",
       "    <tr>\n",
       "      <th>392241</th>\n",
       "      <td>Mario Cuomo</td>\n",
       "      <td>It's not legal. It's a total abrogation of the...</td>\n",
       "      <td>4</td>\n",
       "    </tr>\n",
       "    <tr>\n",
       "      <th>392251</th>\n",
       "      <td>Chuck Schumer</td>\n",
       "      <td>My message is simple: don't lose hope. There i...</td>\n",
       "      <td>4</td>\n",
       "    </tr>\n",
       "    <tr>\n",
       "      <th>392255</th>\n",
       "      <td>Mike Braun</td>\n",
       "      <td>No, I'm not saying it's OK. I'm not saying it'...</td>\n",
       "      <td>4</td>\n",
       "    </tr>\n",
       "    <tr>\n",
       "      <th>392260</th>\n",
       "      <td>Bernie Sanders</td>\n",
       "      <td>Our campaign is about issues... it is not abou...</td>\n",
       "      <td>4</td>\n",
       "    </tr>\n",
       "    <tr>\n",
       "      <th>392270</th>\n",
       "      <td>Bernie Sanders</td>\n",
       "      <td>So I know that Trump will distort anything and...</td>\n",
       "      <td>4</td>\n",
       "    </tr>\n",
       "    <tr>\n",
       "      <th>392306</th>\n",
       "      <td>Michael Bloomberg</td>\n",
       "      <td>There's no question he has an enormous amount ...</td>\n",
       "      <td>4</td>\n",
       "    </tr>\n",
       "    <tr>\n",
       "      <th>392314</th>\n",
       "      <td>Pete Buttigieg</td>\n",
       "      <td>thought it was a trick question -- it turned o...</td>\n",
       "      <td>4</td>\n",
       "    </tr>\n",
       "    <tr>\n",
       "      <th>392340</th>\n",
       "      <td>John Miller</td>\n",
       "      <td>We see the lion's share of that number are thi...</td>\n",
       "      <td>4</td>\n",
       "    </tr>\n",
       "    <tr>\n",
       "      <th>392352</th>\n",
       "      <td>President Trump</td>\n",
       "      <td>We've gotten so many people back... but uh, Ro...</td>\n",
       "      <td>4</td>\n",
       "    </tr>\n",
       "    <tr>\n",
       "      <th>392368</th>\n",
       "      <td>Joe Biden</td>\n",
       "      <td>Yesterday he was talking to a bunch of governo...</td>\n",
       "      <td>4</td>\n",
       "    </tr>\n",
       "    <tr>\n",
       "      <th>392394</th>\n",
       "      <td>Steve Forbes</td>\n",
       "      <td>But I don't think it's revenge. It's more just...</td>\n",
       "      <td>4</td>\n",
       "    </tr>\n",
       "    <tr>\n",
       "      <th>392395</th>\n",
       "      <td>Barack Obama</td>\n",
       "      <td>But I think most Democrats probably know that ...</td>\n",
       "      <td>4</td>\n",
       "    </tr>\n",
       "    <tr>\n",
       "      <th>392411</th>\n",
       "      <td>John Delaney</td>\n",
       "      <td>I also think that's not real governing. That's...</td>\n",
       "      <td>4</td>\n",
       "    </tr>\n",
       "    <tr>\n",
       "      <th>392420</th>\n",
       "      <td>President Trump</td>\n",
       "      <td>I know what they're going through, and it's ho...</td>\n",
       "      <td>4</td>\n",
       "    </tr>\n",
       "    <tr>\n",
       "      <th>392422</th>\n",
       "      <td>Marianne Williamson</td>\n",
       "      <td>I never should have said that and I'm sorry ab...</td>\n",
       "      <td>4</td>\n",
       "    </tr>\n",
       "    <tr>\n",
       "      <th>392423</th>\n",
       "      <td>Lisa Murkowski</td>\n",
       "      <td>I stated before that I was curious as to what ...</td>\n",
       "      <td>4</td>\n",
       "    </tr>\n",
       "    <tr>\n",
       "      <th>392426</th>\n",
       "      <td>Shelley Moore Capito</td>\n",
       "      <td>I think he probably would be better served, an...</td>\n",
       "      <td>4</td>\n",
       "    </tr>\n",
       "    <tr>\n",
       "      <th>392431</th>\n",
       "      <td>Newt Gingrich</td>\n",
       "      <td>If he does this badly, he comes out as a drama...</td>\n",
       "      <td>4</td>\n",
       "    </tr>\n",
       "    <tr>\n",
       "      <th>392432</th>\n",
       "      <td>Sam Brownback</td>\n",
       "      <td>If the private sector told China's business an...</td>\n",
       "      <td>4</td>\n",
       "    </tr>\n",
       "    <tr>\n",
       "      <th>392433</th>\n",
       "      <td>Kanye West</td>\n",
       "      <td>I'm 100% going to be like a multi, multi, mult...</td>\n",
       "      <td>4</td>\n",
       "    </tr>\n",
       "    <tr>\n",
       "      <th>392447</th>\n",
       "      <td>John Hall</td>\n",
       "      <td>It is the most infectious virus we've seen in ...</td>\n",
       "      <td>4</td>\n",
       "    </tr>\n",
       "    <tr>\n",
       "      <th>392451</th>\n",
       "      <td>Matt Muratore</td>\n",
       "      <td>It's really, for the first time gaining some t...</td>\n",
       "      <td>4</td>\n",
       "    </tr>\n",
       "    <tr>\n",
       "      <th>392452</th>\n",
       "      <td>Ron DeSantis</td>\n",
       "      <td>I've talked to the president about it. He's go...</td>\n",
       "      <td>4</td>\n",
       "    </tr>\n",
       "    <tr>\n",
       "      <th>392469</th>\n",
       "      <td>Jim Edgar</td>\n",
       "      <td>She thought it was authentic.... The consensus...</td>\n",
       "      <td>4</td>\n",
       "    </tr>\n",
       "    <tr>\n",
       "      <th>392479</th>\n",
       "      <td>Steve Williams</td>\n",
       "      <td>That was not known to anyone, that had not bee...</td>\n",
       "      <td>4</td>\n",
       "    </tr>\n",
       "    <tr>\n",
       "      <th>392504</th>\n",
       "      <td>Dick Durbin</td>\n",
       "      <td>This is just the earliest stage of it.</td>\n",
       "      <td>4</td>\n",
       "    </tr>\n",
       "    <tr>\n",
       "      <th>392526</th>\n",
       "      <td>Michael R. Bloomberg</td>\n",
       "      <td>We really believe this is about limiting Senat...</td>\n",
       "      <td>4</td>\n",
       "    </tr>\n",
       "    <tr>\n",
       "      <th>392529</th>\n",
       "      <td>Elizabeth Warren</td>\n",
       "      <td>Well, it's tough. Maybe I'll just pull a New Y...</td>\n",
       "      <td>4</td>\n",
       "    </tr>\n",
       "    <tr>\n",
       "      <th>392546</th>\n",
       "      <td>Donald Trump</td>\n",
       "      <td>Worshippers. They were praying and this maniac...</td>\n",
       "      <td>4</td>\n",
       "    </tr>\n",
       "    <tr>\n",
       "      <th>392547</th>\n",
       "      <td>Mick Mulvaney</td>\n",
       "      <td>yep, it was true, every word of it, so get ove...</td>\n",
       "      <td>4</td>\n",
       "    </tr>\n",
       "  </tbody>\n",
       "</table>\n",
       "<p>54479 rows × 3 columns</p>\n",
       "</div>"
      ],
      "text/plain": [
       "                       speaker  \\\n",
       "5                   John Moore   \n",
       "17      President Donald Trump   \n",
       "33                  Mike Kelly   \n",
       "37                 Megyn Kelly   \n",
       "44                Nancy Pelosi   \n",
       "48      President Donald Trump   \n",
       "49      President Donald Trump   \n",
       "50              Thomas Collins   \n",
       "63               Steve Bullock   \n",
       "68               Amy Klobuchar   \n",
       "69             William Russell   \n",
       "70                 Mike Rounds   \n",
       "72                   Joe Biden   \n",
       "73                 David Scott   \n",
       "74                  Peter Gray   \n",
       "77                 Mike Pompeo   \n",
       "101                John Clarke   \n",
       "102            Rep. Ilhan Omar   \n",
       "114               Mike Johnson   \n",
       "121               Mark Meadows   \n",
       "126               Andy Beshear   \n",
       "127               Ron DeSantis   \n",
       "135             Pete Buttigieg   \n",
       "141             Bernie Sanders   \n",
       "165             Bernie Sanders   \n",
       "179              Patrick Leahy   \n",
       "180            Hillary Clinton   \n",
       "191     President Donald Trump   \n",
       "193               Ron DeSantis   \n",
       "211                Mitt Romney   \n",
       "...                        ...   \n",
       "392241             Mario Cuomo   \n",
       "392251           Chuck Schumer   \n",
       "392255              Mike Braun   \n",
       "392260          Bernie Sanders   \n",
       "392270          Bernie Sanders   \n",
       "392306       Michael Bloomberg   \n",
       "392314          Pete Buttigieg   \n",
       "392340             John Miller   \n",
       "392352         President Trump   \n",
       "392368               Joe Biden   \n",
       "392394            Steve Forbes   \n",
       "392395            Barack Obama   \n",
       "392411            John Delaney   \n",
       "392420         President Trump   \n",
       "392422     Marianne Williamson   \n",
       "392423          Lisa Murkowski   \n",
       "392426    Shelley Moore Capito   \n",
       "392431           Newt Gingrich   \n",
       "392432           Sam Brownback   \n",
       "392433              Kanye West   \n",
       "392447               John Hall   \n",
       "392451           Matt Muratore   \n",
       "392452            Ron DeSantis   \n",
       "392469               Jim Edgar   \n",
       "392479          Steve Williams   \n",
       "392504             Dick Durbin   \n",
       "392526    Michael R. Bloomberg   \n",
       "392529        Elizabeth Warren   \n",
       "392546            Donald Trump   \n",
       "392547           Mick Mulvaney   \n",
       "\n",
       "                                                quotation  cluster  \n",
       "5       And his own drama is that he's stuck in this c...        4  \n",
       "17      But think of it: A man leaks classified inform...        4  \n",
       "33      He's 21 or 22 years old so I'm not too worried...        4  \n",
       "37      I actually don't happen to be one of those peo...        4  \n",
       "44      I don't need any lesson from anybody, especial...        4  \n",
       "48      I hope it is not going to be a rigged deal bec...        4  \n",
       "49      I really believe it. And I'm going to work har...        4  \n",
       "50      I think we Catholics have taken the Mass for g...        4  \n",
       "63      I'm just basically looking at it like, when I ...        4  \n",
       "68      It is the first state but there's many to follow,        4  \n",
       "69      It was a no-brainer for me to come forward and...        4  \n",
       "70            It's critical to have diverse perspectives,        4  \n",
       "72      It's just a lot of baggage that @JoeBiden take...        4  \n",
       "73               It's not like buying or selling a house,        4  \n",
       "74      It's not only humane but it makes good economi...        4  \n",
       "77      I've said that consistently.... I've watched m...        4  \n",
       "101                   That is all I think I can do today.        4  \n",
       "102     That withdrawal from the [ Iran ] nuclear deal...        4  \n",
       "114     The only thing that has been proven beyond a r...        4  \n",
       "121                 There may not be anything wrong here,        4  \n",
       "126     They don't realize it happens in every neighbo...        4  \n",
       "127     They were badgering about it and he was saying...        4  \n",
       "135     This virus does not care what country it's in,...        4  \n",
       "141                Tuesday is a very, very important day,        4  \n",
       "165     What happened and existed in the Soviet Union ...        4  \n",
       "179     and doesn't want to do anything that [ Preside...        4  \n",
       "180     And I know that from my own races -- they don'...        4  \n",
       "191     But it looks like, more and more, we're going ...        4  \n",
       "193     But what's happened is -- and it's a problem f...        4  \n",
       "211     he voted his conscience. It's probably for him...        4  \n",
       "...                                                   ...      ...  \n",
       "392241  It's not legal. It's a total abrogation of the...        4  \n",
       "392251  My message is simple: don't lose hope. There i...        4  \n",
       "392255  No, I'm not saying it's OK. I'm not saying it'...        4  \n",
       "392260  Our campaign is about issues... it is not abou...        4  \n",
       "392270  So I know that Trump will distort anything and...        4  \n",
       "392306  There's no question he has an enormous amount ...        4  \n",
       "392314  thought it was a trick question -- it turned o...        4  \n",
       "392340  We see the lion's share of that number are thi...        4  \n",
       "392352  We've gotten so many people back... but uh, Ro...        4  \n",
       "392368  Yesterday he was talking to a bunch of governo...        4  \n",
       "392394  But I don't think it's revenge. It's more just...        4  \n",
       "392395  But I think most Democrats probably know that ...        4  \n",
       "392411  I also think that's not real governing. That's...        4  \n",
       "392420  I know what they're going through, and it's ho...        4  \n",
       "392422  I never should have said that and I'm sorry ab...        4  \n",
       "392423  I stated before that I was curious as to what ...        4  \n",
       "392426  I think he probably would be better served, an...        4  \n",
       "392431  If he does this badly, he comes out as a drama...        4  \n",
       "392432  If the private sector told China's business an...        4  \n",
       "392433  I'm 100% going to be like a multi, multi, mult...        4  \n",
       "392447  It is the most infectious virus we've seen in ...        4  \n",
       "392451  It's really, for the first time gaining some t...        4  \n",
       "392452  I've talked to the president about it. He's go...        4  \n",
       "392469  She thought it was authentic.... The consensus...        4  \n",
       "392479  That was not known to anyone, that had not bee...        4  \n",
       "392504             This is just the earliest stage of it.        4  \n",
       "392526  We really believe this is about limiting Senat...        4  \n",
       "392529  Well, it's tough. Maybe I'll just pull a New Y...        4  \n",
       "392546  Worshippers. They were praying and this maniac...        4  \n",
       "392547  yep, it was true, every word of it, so get ove...        4  \n",
       "\n",
       "[54479 rows x 3 columns]"
      ]
     },
     "execution_count": 127,
     "metadata": {},
     "output_type": "execute_result"
    }
   ],
   "source": [
    "quote[quote[\"cluster\"]==4]"
   ]
  },
  {
   "cell_type": "markdown",
   "metadata": {},
   "source": [
    "## Clustering concatenated quotes"
   ]
  },
  {
   "cell_type": "code",
   "execution_count": 8,
   "metadata": {},
   "outputs": [
    {
     "name": "stderr",
     "output_type": "stream",
     "text": [
      "/var/folders/6y/wj5rbbbn4m3c5t1k5q50rrp40000gn/T/ipykernel_86424/911680192.py:1: SettingWithCopyWarning: \n",
      "A value is trying to be set on a copy of a slice from a DataFrame.\n",
      "Try using .loc[row_indexer,col_indexer] = value instead\n",
      "\n",
      "See the caveats in the documentation: https://pandas.pydata.org/pandas-docs/stable/user_guide/indexing.html#returning-a-view-versus-a-copy\n",
      "  quote['quote_conc']= quote.groupby(['speaker'])['quotation'].transform(lambda x: ','.join(x))\n"
     ]
    },
    {
     "data": {
      "text/html": [
       "<div>\n",
       "<style scoped>\n",
       "    .dataframe tbody tr th:only-of-type {\n",
       "        vertical-align: middle;\n",
       "    }\n",
       "\n",
       "    .dataframe tbody tr th {\n",
       "        vertical-align: top;\n",
       "    }\n",
       "\n",
       "    .dataframe thead th {\n",
       "        text-align: right;\n",
       "    }\n",
       "</style>\n",
       "<table border=\"1\" class=\"dataframe\">\n",
       "  <thead>\n",
       "    <tr style=\"text-align: right;\">\n",
       "      <th></th>\n",
       "      <th>speaker</th>\n",
       "      <th>quote_conc</th>\n",
       "    </tr>\n",
       "  </thead>\n",
       "  <tbody>\n",
       "    <tr>\n",
       "      <th>0</th>\n",
       "      <td>Ben Carson</td>\n",
       "      <td>[ These ] actions will allow households who ha...</td>\n",
       "    </tr>\n",
       "    <tr>\n",
       "      <th>1</th>\n",
       "      <td>Dave Loebsack</td>\n",
       "      <td>a few of the candidates who will do better in ...</td>\n",
       "    </tr>\n",
       "    <tr>\n",
       "      <th>2</th>\n",
       "      <td>Julián Castro</td>\n",
       "      <td>A lot of Americans [ were ] upset that this wa...</td>\n",
       "    </tr>\n",
       "    <tr>\n",
       "      <th>3</th>\n",
       "      <td>Gavin Newsom</td>\n",
       "      <td>a manufacturer here in the state of California...</td>\n",
       "    </tr>\n",
       "    <tr>\n",
       "      <th>4</th>\n",
       "      <td>John Burke</td>\n",
       "      <td>Although not a lubricant issue, tire wear is e...</td>\n",
       "    </tr>\n",
       "    <tr>\n",
       "      <th>...</th>\n",
       "      <td>...</td>\n",
       "      <td>...</td>\n",
       "    </tr>\n",
       "    <tr>\n",
       "      <th>390456</th>\n",
       "      <td>Elizabeth Henderson</td>\n",
       "      <td>As a farmer, I reject solutions like carbon ma...</td>\n",
       "    </tr>\n",
       "    <tr>\n",
       "      <th>390778</th>\n",
       "      <td>George Bachrach</td>\n",
       "      <td>This will be local, this will be transparent,</td>\n",
       "    </tr>\n",
       "    <tr>\n",
       "      <th>391812</th>\n",
       "      <td>William Richardson</td>\n",
       "      <td>Children need [ diapers ], toys and different ...</td>\n",
       "    </tr>\n",
       "    <tr>\n",
       "      <th>391878</th>\n",
       "      <td>Jeh C. Johnson</td>\n",
       "      <td>my guess is his national security lawyers did ...</td>\n",
       "    </tr>\n",
       "    <tr>\n",
       "      <th>392275</th>\n",
       "      <td>Susan Pope</td>\n",
       "      <td>SwRI is also contributing to the development o...</td>\n",
       "    </tr>\n",
       "  </tbody>\n",
       "</table>\n",
       "<p>3687 rows × 2 columns</p>\n",
       "</div>"
      ],
      "text/plain": [
       "                    speaker                                         quote_conc\n",
       "0                Ben Carson  [ These ] actions will allow households who ha...\n",
       "1             Dave Loebsack  a few of the candidates who will do better in ...\n",
       "2             Julián Castro  A lot of Americans [ were ] upset that this wa...\n",
       "3              Gavin Newsom  a manufacturer here in the state of California...\n",
       "4                John Burke  Although not a lubricant issue, tire wear is e...\n",
       "...                     ...                                                ...\n",
       "390456  Elizabeth Henderson  As a farmer, I reject solutions like carbon ma...\n",
       "390778      George Bachrach      This will be local, this will be transparent,\n",
       "391812   William Richardson  Children need [ diapers ], toys and different ...\n",
       "391878       Jeh C. Johnson  my guess is his national security lawyers did ...\n",
       "392275           Susan Pope  SwRI is also contributing to the development o...\n",
       "\n",
       "[3687 rows x 2 columns]"
      ]
     },
     "execution_count": 8,
     "metadata": {},
     "output_type": "execute_result"
    }
   ],
   "source": [
    "quote['quote_conc']= quote.groupby(['speaker'])['quotation'].transform(lambda x: ','.join(x))\n",
    "quotes_conc = quote.drop_duplicates(subset=['speaker'])[['speaker', 'quote_conc']]\n",
    "quotes_conc"
   ]
  },
  {
   "cell_type": "code",
   "execution_count": 9,
   "metadata": {},
   "outputs": [
    {
     "name": "stderr",
     "output_type": "stream",
     "text": [
      "/Users/kalle/opt/anaconda3/envs/ada/lib/python3.8/site-packages/sklearn/decomposition/_nmf.py:289: FutureWarning: The 'init' value, when 'init=None' and n_components is less than n_samples and n_features, will be changed from 'nndsvd' to 'nndsvda' in 1.1 (renaming of 0.26).\n",
      "  warnings.warn(\n",
      "/Users/kalle/opt/anaconda3/envs/ada/lib/python3.8/site-packages/sklearn/decomposition/_nmf.py:1637: ConvergenceWarning: Maximum number of iterations 200 reached. Increase it to improve convergence.\n",
      "  warnings.warn(\n"
     ]
    }
   ],
   "source": [
    "vectors = vectorizer.transform(quotes_conc['quote_conc'])\n",
    "nmf = NMF(n_components=10, random_state=1).fit_transform(vectors)\n",
    "distance_matrix = pairwise_distances(nmf, nmf, metric='cosine')"
   ]
  },
  {
   "cell_type": "code",
   "execution_count": 10,
   "metadata": {},
   "outputs": [],
   "source": [
    "labels = DBSCAN(eps=0.04, min_samples=5, metric='precomputed',n_jobs=-1).fit_predict(distance_matrix)"
   ]
  },
  {
   "cell_type": "code",
   "execution_count": 11,
   "metadata": {},
   "outputs": [
    {
     "data": {
      "text/plain": [
       "[0, 1, 2, 3, 4, 5, 6, 7, 8, 9, 10, 11, 12, 13, 14, 15, -1]"
      ]
     },
     "execution_count": 11,
     "metadata": {},
     "output_type": "execute_result"
    }
   ],
   "source": [
    "set_of_clusters = set(labels)\n",
    "unique_clusters = list(set_of_clusters)\n",
    "unique_clusters"
   ]
  },
  {
   "cell_type": "code",
   "execution_count": 12,
   "metadata": {},
   "outputs": [],
   "source": [
    "quotes_conc['cluster'] = labels"
   ]
  },
  {
   "cell_type": "code",
   "execution_count": 16,
   "metadata": {},
   "outputs": [
    {
     "data": {
      "text/html": [
       "<div>\n",
       "<style scoped>\n",
       "    .dataframe tbody tr th:only-of-type {\n",
       "        vertical-align: middle;\n",
       "    }\n",
       "\n",
       "    .dataframe tbody tr th {\n",
       "        vertical-align: top;\n",
       "    }\n",
       "\n",
       "    .dataframe thead th {\n",
       "        text-align: right;\n",
       "    }\n",
       "</style>\n",
       "<table border=\"1\" class=\"dataframe\">\n",
       "  <thead>\n",
       "    <tr style=\"text-align: right;\">\n",
       "      <th></th>\n",
       "      <th>speaker</th>\n",
       "      <th>quote_conc</th>\n",
       "      <th>cluster</th>\n",
       "    </tr>\n",
       "  </thead>\n",
       "  <tbody>\n",
       "    <tr>\n",
       "      <th>0</th>\n",
       "      <td>Ben Carson</td>\n",
       "      <td>[ These ] actions will allow households who ha...</td>\n",
       "      <td>0</td>\n",
       "    </tr>\n",
       "    <tr>\n",
       "      <th>1</th>\n",
       "      <td>Dave Loebsack</td>\n",
       "      <td>a few of the candidates who will do better in ...</td>\n",
       "      <td>0</td>\n",
       "    </tr>\n",
       "    <tr>\n",
       "      <th>2</th>\n",
       "      <td>Julián Castro</td>\n",
       "      <td>A lot of Americans [ were ] upset that this wa...</td>\n",
       "      <td>0</td>\n",
       "    </tr>\n",
       "    <tr>\n",
       "      <th>3</th>\n",
       "      <td>Gavin Newsom</td>\n",
       "      <td>a manufacturer here in the state of California...</td>\n",
       "      <td>0</td>\n",
       "    </tr>\n",
       "    <tr>\n",
       "      <th>4</th>\n",
       "      <td>John Burke</td>\n",
       "      <td>Although not a lubricant issue, tire wear is e...</td>\n",
       "      <td>0</td>\n",
       "    </tr>\n",
       "    <tr>\n",
       "      <th>...</th>\n",
       "      <td>...</td>\n",
       "      <td>...</td>\n",
       "      <td>...</td>\n",
       "    </tr>\n",
       "    <tr>\n",
       "      <th>375450</th>\n",
       "      <td>Mel Levine</td>\n",
       "      <td>We have now been able credibly to promise that...</td>\n",
       "      <td>0</td>\n",
       "    </tr>\n",
       "    <tr>\n",
       "      <th>379291</th>\n",
       "      <td>Sandra Day O'Connor</td>\n",
       "      <td>small and timid most of the year.</td>\n",
       "      <td>0</td>\n",
       "    </tr>\n",
       "    <tr>\n",
       "      <th>381425</th>\n",
       "      <td>Jim Edgar</td>\n",
       "      <td>They could ask, she wouldn't have to do it,,It...</td>\n",
       "      <td>0</td>\n",
       "    </tr>\n",
       "    <tr>\n",
       "      <th>390456</th>\n",
       "      <td>Elizabeth Henderson</td>\n",
       "      <td>As a farmer, I reject solutions like carbon ma...</td>\n",
       "      <td>0</td>\n",
       "    </tr>\n",
       "    <tr>\n",
       "      <th>392275</th>\n",
       "      <td>Susan Pope</td>\n",
       "      <td>SwRI is also contributing to the development o...</td>\n",
       "      <td>0</td>\n",
       "    </tr>\n",
       "  </tbody>\n",
       "</table>\n",
       "<p>2215 rows × 3 columns</p>\n",
       "</div>"
      ],
      "text/plain": [
       "                    speaker  \\\n",
       "0                Ben Carson   \n",
       "1             Dave Loebsack   \n",
       "2             Julián Castro   \n",
       "3              Gavin Newsom   \n",
       "4                John Burke   \n",
       "...                     ...   \n",
       "375450           Mel Levine   \n",
       "379291  Sandra Day O'Connor   \n",
       "381425            Jim Edgar   \n",
       "390456  Elizabeth Henderson   \n",
       "392275           Susan Pope   \n",
       "\n",
       "                                               quote_conc  cluster  \n",
       "0       [ These ] actions will allow households who ha...        0  \n",
       "1       a few of the candidates who will do better in ...        0  \n",
       "2       A lot of Americans [ were ] upset that this wa...        0  \n",
       "3       a manufacturer here in the state of California...        0  \n",
       "4       Although not a lubricant issue, tire wear is e...        0  \n",
       "...                                                   ...      ...  \n",
       "375450  We have now been able credibly to promise that...        0  \n",
       "379291                  small and timid most of the year.        0  \n",
       "381425  They could ask, she wouldn't have to do it,,It...        0  \n",
       "390456  As a farmer, I reject solutions like carbon ma...        0  \n",
       "392275  SwRI is also contributing to the development o...        0  \n",
       "\n",
       "[2215 rows x 3 columns]"
      ]
     },
     "execution_count": 16,
     "metadata": {},
     "output_type": "execute_result"
    }
   ],
   "source": [
    "quotes_conc[quotes_conc['cluster'] == 0]"
   ]
  },
  {
   "cell_type": "code",
   "execution_count": null,
   "metadata": {},
   "outputs": [],
   "source": []
  }
 ],
 "metadata": {
  "colab": {
   "collapsed_sections": [],
   "name": "HW2ADA.ipynb",
   "provenance": []
  },
  "interpreter": {
   "hash": "b3ba2566441a7c06988d0923437866b63cedc61552a5af99d1f4fb67d367b25f"
  },
  "kernelspec": {
   "display_name": "Python 3 (ipykernel)",
   "language": "python",
   "name": "python3"
  },
  "language_info": {
   "codemirror_mode": {
    "name": "ipython",
    "version": 3
   },
   "file_extension": ".py",
   "mimetype": "text/x-python",
   "name": "python",
   "nbconvert_exporter": "python",
   "pygments_lexer": "ipython3",
   "version": "3.8.11"
  }
 },
 "nbformat": 4,
 "nbformat_minor": 1
}
