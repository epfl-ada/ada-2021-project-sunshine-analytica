{
 "cells": [
  {
   "cell_type": "markdown",
   "metadata": {},
   "source": [
    "# Milestone 2"
   ]
  },
  {
   "cell_type": "code",
   "execution_count": 1,
   "metadata": {
    "id": "DQM7B_AaBhix"
   },
   "outputs": [],
   "source": [
    "import numpy as np\n",
    "import pandas as pd\n",
    "import matplotlib.pyplot as plt\n",
    "from datetime import datetime, date, time\n",
    "from dateutil.relativedelta import relativedelta\n",
    "from sklearn.feature_extraction.text import TfidfVectorizer\n",
    "from sklearn.metrics.pairwise import cosine_similarity"
   ]
  },
  {
   "cell_type": "markdown",
   "metadata": {},
   "source": [
    "##### Extracting quotes from politicians\n",
    "In the following cell we load the provided metadata file, available [here](https://drive.google.com/drive/folders/1VAFHacZFh0oxSxilgNByb1nlNsqznUf0). This is used for obtaining a list of names of politicians, which we later use for filtering the QuoteBank dataset"
   ]
  },
  {
   "cell_type": "code",
   "execution_count": 2,
   "metadata": {},
   "outputs": [],
   "source": [
    "df_meta = pd.read_parquet('speaker_attributes.parquet')\n",
    "df_meta = df_meta[df_meta['occupation'].notna()]\n",
    "\n",
    "# The identifier for the occupation politician in Wikidata is Q82955\n",
    "politicians = df_meta[df_meta.occupation.apply(lambda x: 'Q82955' in x)]\n",
    "politicians = politicians[politicians['aliases'].notna()]\n",
    "politicians = politicians[politicians['label'].notna()]\n",
    "\n",
    "# Make a combined list that contains both the aliases and the label names for the politicians\n",
    "list_of_politicians = list(politicians.aliases.explode())\n",
    "list_of_politicians += list(politicians.label)"
   ]
  },
  {
   "cell_type": "markdown",
   "metadata": {},
   "source": [
    "We use the provided [Colab notebook](https://colab.research.google.com/drive/1NqLFrAWAzKxr2dAWHI7m6Ml3gWGF72cA?usp=sharing) for loading the QuoteBank dataset. This script creates a compressed file that is opened in the following cell"
   ]
  },
  {
   "cell_type": "code",
   "execution_count": null,
   "metadata": {},
   "outputs": [],
   "source": [
    "df_reader = pd.read_json('quotes-2020-domains.json.bz2', lines=True, compression='bz2', chunksize=10000)\n",
    "\n",
    "df_politicians = pd.concat([\n",
    "    chunk[chunk['speaker'].isin(list_of_politicians)]\n",
    "    for chunk in df_reader])"
   ]
  },
  {
   "cell_type": "markdown",
   "metadata": {},
   "source": [
    "##### Save to disk\n",
    "Since it takes quite some time to load and filter the data, let's save it to a compressed .csv file that we can se."
   ]
  },
  {
   "cell_type": "code",
   "execution_count": null,
   "metadata": {},
   "outputs": [],
   "source": [
    "compression_opts = dict(method='zip',archive_name='politicians.csv')  \n",
    "df_politicians.to_csv('politicians.zip', index=False, compression=compression_opts)\n",
    "compression_opts = dict(method='zip',archive_name='meta.csv')  \n",
    "df_meta.to_csv('meta.zip', index=False, compression=compression_opts)"
   ]
  },
  {
   "cell_type": "markdown",
   "metadata": {},
   "source": [
    "##### Read from disk"
   ]
  },
  {
   "cell_type": "code",
   "execution_count": 3,
   "metadata": {},
   "outputs": [],
   "source": [
    "df_politicians = pd.read_csv(\"politicians.csv\")\n",
    "df_meta = pd.read_csv(\"meta.csv\")"
   ]
  },
  {
   "cell_type": "markdown",
   "metadata": {},
   "source": [
    "# Quote time correlation\n",
    "##### Using quotes as signal\n",
    "We retrieve all of Joe Biden's and Donald Trump's quotes for the year 2020 and the associated dates. We create a signal for each politician corresponding to the number of speeches recorded each week of the year. And finally we can visualise the correlation of the two signals but also the time lag between the two signals"
   ]
  },
  {
   "cell_type": "code",
   "execution_count": 4,
   "metadata": {},
   "outputs": [],
   "source": [
    "df_politicians.date = pd.to_datetime(df_politicians.date)"
   ]
  },
  {
   "cell_type": "code",
   "execution_count": 24,
   "metadata": {},
   "outputs": [],
   "source": [
    "def create_signal(name):\n",
    "    \"\"\"\n",
    "    Create a signal of the number of quotes per week, made by a politician.\n",
    "    Arguments:\n",
    "        name: name of the politician\n",
    "    \"\"\"\n",
    "    signal = np.zeros([53,])\n",
    "    # We extract different ways to call him in the df\n",
    "    aliases = list(df_meta[df_meta['label'] == name]['aliases'].values[0])\n",
    "    # We extract all his quotes\n",
    "    chunk = df_politicians[(df_politicians.speaker == name) | (df_politicians.speaker.isin(aliases))]\n",
    "    # We ectract all the weeks of eachs quotes\n",
    "    weeks = chunk.date.apply(lambda x: x.week).values\n",
    "    # We create an histogram of number of quotes per weeks\n",
    "    signal, _ = np.histogram(weeks, range(1, signal.shape[0]+2))\n",
    "    return signal\n",
    "signal_Donald_Trump = create_signal(\"Donald Trump\")\n",
    "signal_Joe_Biden = create_signal(\"Joe Biden\")\n",
    "signal_macron = create_signal(\"Emmanuel Macron\")"
   ]
  },
  {
   "cell_type": "markdown",
   "metadata": {},
   "source": [
    "##### Plot the results\n",
    "Note that the reason for the signal becoming zero between week 10 and 20 is that the QuoteBank dataset was collected up until April 2020."
   ]
  },
  {
   "cell_type": "code",
   "execution_count": 26,
   "metadata": {
    "colab": {
     "base_uri": "https://localhost:8080/",
     "height": 310
    },
    "id": "U9CZeMMtgalk",
    "outputId": "93bb158b-94f9-4f4b-fd27-79331ddf2e60"
   },
   "outputs": [
    {
     "data": {
      "image/png": "[encoded data removed]",
      "text/plain": [
       "<Figure size 432x288 with 1 Axes>"
      ]
     },
     "metadata": {
      "needs_background": "light"
     },
     "output_type": "display_data"
    }
   ],
   "source": [
    "plt.plot(signal_Joe_Biden, label=\"Joe Biden\")\n",
    "plt.plot(signal_Donald_Trump, label=\"Donald Trump\")\n",
    "plt.plot(signal_macron, label=\"Emmanuel Macron\")\n",
    "plt.xlim(1,signal_Donald_Trump.shape[0])\n",
    "plt.xlabel(\"Weeks of 2020\")\n",
    "plt.ylabel(\"Number of speeches per week\")\n",
    "plt.title(\"Comparison of the number of speeches per week\\nof Donald Trump and Joe Biden\")\n",
    "plt.legend();"
   ]
  },
  {
   "cell_type": "code",
   "execution_count": 31,
   "metadata": {
    "colab": {
     "base_uri": "https://localhost:8080/",
     "height": 265
    },
    "id": "Qh01CXqpWKxU",
    "outputId": "74c89b7c-3aac-4942-8c6d-bcfd76bed1ae"
   },
   "outputs": [
    {
     "name": "stdout",
     "output_type": "stream",
     "text": [
      "Correlation between Trump and Biden: 0.0641\n",
      "Correlation between Trump and Macron: 0.0625\n",
      "Correlation between Biden and Macron: 0.0645\n"
     ]
    }
   ],
   "source": [
    "trump_biden_corr = np.correlate(signal_Donald_Trump/signal_Donald_Trump.sum(), signal_Joe_Biden/signal_Joe_Biden.sum())[0] # We anaylse the correlation between signals, normalized\n",
    "trump_macron_corr = np.correlate(signal_Donald_Trump/signal_Donald_Trump.sum(), signal_macron/signal_macron.sum())[0]\n",
    "biden_macron_corr = np.correlate(signal_Joe_Biden/signal_Joe_Biden.sum(), signal_macron/signal_macron.sum())[0]\n",
    "\n",
    "print('Correlation between Trump and Biden: %.4f' % trump_biden_corr)\n",
    "print('Correlation between Trump and Macron: %.4f' % trump_macron_corr)\n",
    "print('Correlation between Biden and Macron: %.4f' % biden_macron_corr)"
   ]
  },
  {
   "cell_type": "markdown",
   "metadata": {},
   "source": [
    "We see that the correlation numbers are quite similar, escpecially for the ones including Joe Biden. In future work, we will have to come up with a test to see if the difference are statistically significant."
   ]
  },
  {
   "cell_type": "markdown",
   "metadata": {},
   "source": [
    "# Quote similarity\n",
    "In this section we will demonstrate how we can compute quote similarity using Tfidf. This will be demonstrated using quotes from Donald Trump and Joe Biden."
   ]
  },
  {
   "cell_type": "markdown",
   "metadata": {},
   "source": [
    "##### Extract and save Trump and Biden quote "
   ]
  },
  {
   "cell_type": "code",
   "execution_count": 32,
   "metadata": {},
   "outputs": [],
   "source": [
    "chunk_Donald_Trump.to_csv(\"Trump_2020_v2.csv\")\n",
    "chunk_Joe_Biden.to_csv(\"Biden_2020_v2.csv\")"
   ]
  },
  {
   "cell_type": "markdown",
   "metadata": {},
   "source": [
    "##### Read the csv saved of Trump and Biden"
   ]
  },
  {
   "cell_type": "code",
   "execution_count": 33,
   "metadata": {},
   "outputs": [],
   "source": [
    "Trump = pd.read_csv(\"Trump_2020_v2.csv\")\n",
    "Biden = pd.read_csv(\"Biden_2020_v2.csv\")"
   ]
  },
  {
   "cell_type": "markdown",
   "metadata": {},
   "source": [
    "##### Learn the vocabulary from the quotes of all politcians in the data set "
   ]
  },
  {
   "cell_type": "code",
   "execution_count": 34,
   "metadata": {},
   "outputs": [],
   "source": [
    "corpus = df_politicians['quotation'].to_list()\n",
    "vectorizer = TfidfVectorizer(ngram_range=(1,1), stop_words=['english'])\n",
    "vectorizer = vectorizer.fit(corpus)"
   ]
  },
  {
   "cell_type": "markdown",
   "metadata": {},
   "source": [
    "###### Pick a random quote from Donald Trump"
   ]
  },
  {
   "cell_type": "code",
   "execution_count": 35,
   "metadata": {},
   "outputs": [],
   "source": [
    "random = 25\n",
    "ref_Trump = Trump.loc[random]\n",
    "trump_quote = [ref_Trump.quotation]"
   ]
  },
  {
   "cell_type": "markdown",
   "metadata": {},
   "source": [
    "###### Extract quotes of Joe Biden within the following month after the quote by Donald Trump"
   ]
  },
  {
   "cell_type": "code",
   "execution_count": 36,
   "metadata": {},
   "outputs": [],
   "source": [
    "ref_date = datetime.strptime(ref_Trump.date, '%Y-%m-%d %H:%M:%S')\n",
    "end_date = ref_date + relativedelta(months=1)\n",
    "Biden.date = Biden.date.apply(lambda d: datetime.strptime(d, '%Y-%m-%d %H:%M:%S'))\n",
    "Biden_target = Biden[Biden.date>ref_date]\n",
    "Biden_target = Biden_target[Biden_target.date<end_date]\n",
    "Biden_target = Biden_target[[\"date\", \"quotation\"]].sort_values(ascending=True, by=\"date\")"
   ]
  },
  {
   "cell_type": "markdown",
   "metadata": {},
   "source": [
    "##### Vectorize the quotes using Tfidf"
   ]
  },
  {
   "cell_type": "code",
   "execution_count": 37,
   "metadata": {},
   "outputs": [],
   "source": [
    "biden_quotes = Biden_target.quotation.to_list()\n",
    "\n",
    "trump_vec = vectorizer.transform(trump_quote)\n",
    "biden_vec = vectorizer.transform(biden_quotes)"
   ]
  },
  {
   "cell_type": "markdown",
   "metadata": {},
   "source": [
    "##### Rank the quotes of Joe Biden according to the cosine similarity to the quote by Donald Trump and select the most similar"
   ]
  },
  {
   "cell_type": "code",
   "execution_count": 38,
   "metadata": {},
   "outputs": [
    {
     "name": "stdout",
     "output_type": "stream",
     "text": [
      "Cosine similarity: 0.243\n",
      "-------\n",
      "Quote by Donald Trump:  He does good at rockets, too, by the way. I never saw where the engines come down with no wings, no anything, and they're landing.\n",
      "-------\n",
      "Quote by Joe Biden:  I was there a long time, Joe, and I never saw anything like that,\n"
     ]
    }
   ],
   "source": [
    "similar_index = np.argmax(cosine_similarity(trump_vec, biden_vec))\n",
    "print(\"Cosine similarity: %.3f\" % cosine_similarity(trump_vec, biden_vec[similar_index])[0][0])\n",
    "print(\"-------\")\n",
    "similar_quote = biden_quotes[similar_index]\n",
    "print(\"Quote by Donald Trump: \",trump_quote[0])\n",
    "print(\"-------\")\n",
    "print(\"Quote by Joe Biden: \",biden_quotes[similar_index])"
   ]
  },
  {
   "cell_type": "code",
   "execution_count": null,
   "metadata": {},
   "outputs": [],
   "source": []
  }
 ],
 "metadata": {
  "colab": {
   "collapsed_sections": [],
   "name": "HW2ADA.ipynb",
   "provenance": []
  },
  "interpreter": {
   "hash": "b3ba2566441a7c06988d0923437866b63cedc61552a5af99d1f4fb67d367b25f"
  },
  "kernelspec": {
   "display_name": "Python 3 (ipykernel)",
   "language": "python",
   "name": "python3"
  },
  "language_info": {
   "codemirror_mode": {
    "name": "ipython",
    "version": 3
   },
   "file_extension": ".py",
   "mimetype": "text/x-python",
   "name": "python",
   "nbconvert_exporter": "python",
   "pygments_lexer": "ipython3",
   "version": "3.8.11"
  }
 },
 "nbformat": 4,
 "nbformat_minor": 1
}
